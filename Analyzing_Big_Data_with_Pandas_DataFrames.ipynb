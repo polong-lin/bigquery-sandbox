{
 "cells": [
  {
   "cell_type": "markdown",
   "metadata": {
    "id": "onrbCCOeLS1s"
   },
   "source": [
    "## Analyzing Big Data with Pandas DataFrames"
   ]
  },
  {
   "cell_type": "code",
   "execution_count": 80,
   "metadata": {
    "id": "3Trr8vLlAoWc"
   },
   "outputs": [],
   "source": [
    "import numpy as np\n",
    "import pandas as pd"
   ]
  },
  {
   "cell_type": "code",
   "execution_count": 79,
   "metadata": {
    "id": "edXp0dKG8gRf"
   },
   "outputs": [],
   "source": [
    "# Packages used for interfacing w/ BigQuery from Python\n",
    "from google.cloud import bigquery\n",
    "\n",
    "# Create BigQuery client\n",
    "project_id = 'polong-demo'\n",
    "\n",
    "bq_client = bigquery.Client(project = project_id)"
   ]
  },
  {
   "cell_type": "markdown",
   "metadata": {
    "id": "CVyiOUmHJul4"
   },
   "source": [
    "## Let's get some data"
   ]
  },
  {
   "cell_type": "markdown",
   "metadata": {
    "id": "SRZYJmb_JxK_"
   },
   "source": [
    "Data: **Wikipedia pageviews by title**, for the two days: 2022-01-01 to 2022-01-02"
   ]
  },
  {
   "cell_type": "code",
   "execution_count": null,
   "metadata": {
    "id": "XbX45omNHtyD"
   },
   "outputs": [],
   "source": [
    "wikidf = pd.read_csv(\"https://storage.googleapis.com/polong-demo-bucket/wikidf_202201.csv\")"
   ]
  },
  {
   "cell_type": "code",
   "execution_count": 81,
   "metadata": {
    "colab": {
     "base_uri": "https://localhost:8080/",
     "height": 686
    },
    "id": "ys7Suxt4xVw1",
    "outputId": "6d4ea915-830d-459a-897b-adce65330a73"
   },
   "outputs": [
    {
     "name": "stdout",
     "output_type": "stream",
     "text": [
      "(20292649, 4)\n"
     ]
    },
    {
     "data": {
      "text/html": [
       "<div>\n",
       "<style scoped>\n",
       "    .dataframe tbody tr th:only-of-type {\n",
       "        vertical-align: middle;\n",
       "    }\n",
       "\n",
       "    .dataframe tbody tr th {\n",
       "        vertical-align: top;\n",
       "    }\n",
       "\n",
       "    .dataframe thead th {\n",
       "        text-align: right;\n",
       "    }\n",
       "</style>\n",
       "<table border=\"1\" class=\"dataframe\">\n",
       "  <thead>\n",
       "    <tr style=\"text-align: right;\">\n",
       "      <th></th>\n",
       "      <th>datehour</th>\n",
       "      <th>wiki</th>\n",
       "      <th>title</th>\n",
       "      <th>views</th>\n",
       "    </tr>\n",
       "  </thead>\n",
       "  <tbody>\n",
       "    <tr>\n",
       "      <th>0</th>\n",
       "      <td>2022-01-02 00:00:00 UTC</td>\n",
       "      <td>en</td>\n",
       "      <td>Being_Frank</td>\n",
       "      <td>1</td>\n",
       "    </tr>\n",
       "    <tr>\n",
       "      <th>1</th>\n",
       "      <td>2022-01-02 00:00:00 UTC</td>\n",
       "      <td>en</td>\n",
       "      <td>Bexhill_United_F.C.</td>\n",
       "      <td>1</td>\n",
       "    </tr>\n",
       "    <tr>\n",
       "      <th>2</th>\n",
       "      <td>2022-01-02 00:00:00 UTC</td>\n",
       "      <td>en</td>\n",
       "      <td>Big_Read_(Hungarian)</td>\n",
       "      <td>1</td>\n",
       "    </tr>\n",
       "    <tr>\n",
       "      <th>3</th>\n",
       "      <td>2022-01-02 00:00:00 UTC</td>\n",
       "      <td>en</td>\n",
       "      <td>Bidar_Kadın</td>\n",
       "      <td>1</td>\n",
       "    </tr>\n",
       "    <tr>\n",
       "      <th>4</th>\n",
       "      <td>2022-01-02 00:00:00 UTC</td>\n",
       "      <td>en</td>\n",
       "      <td>Bill_Lickiss</td>\n",
       "      <td>1</td>\n",
       "    </tr>\n",
       "    <tr>\n",
       "      <th>5</th>\n",
       "      <td>2022-01-02 00:00:00 UTC</td>\n",
       "      <td>en</td>\n",
       "      <td>Belfast_North_(Assembly_constituency)</td>\n",
       "      <td>1</td>\n",
       "    </tr>\n",
       "    <tr>\n",
       "      <th>6</th>\n",
       "      <td>2022-01-02 00:00:00 UTC</td>\n",
       "      <td>en</td>\n",
       "      <td>Battista_Fregoso</td>\n",
       "      <td>1</td>\n",
       "    </tr>\n",
       "    <tr>\n",
       "      <th>7</th>\n",
       "      <td>2022-01-02 00:00:00 UTC</td>\n",
       "      <td>en</td>\n",
       "      <td>Beaufort_Castle,_Luxembourg</td>\n",
       "      <td>1</td>\n",
       "    </tr>\n",
       "    <tr>\n",
       "      <th>8</th>\n",
       "      <td>2022-01-02 00:00:00 UTC</td>\n",
       "      <td>en</td>\n",
       "      <td>Benjamin_Dreyer</td>\n",
       "      <td>1</td>\n",
       "    </tr>\n",
       "    <tr>\n",
       "      <th>9</th>\n",
       "      <td>2022-01-02 00:00:00 UTC</td>\n",
       "      <td>en</td>\n",
       "      <td>Billy_Baron</td>\n",
       "      <td>2</td>\n",
       "    </tr>\n",
       "    <tr>\n",
       "      <th>10</th>\n",
       "      <td>2022-01-02 00:00:00 UTC</td>\n",
       "      <td>en</td>\n",
       "      <td>Berberism</td>\n",
       "      <td>2</td>\n",
       "    </tr>\n",
       "    <tr>\n",
       "      <th>11</th>\n",
       "      <td>2022-01-02 00:00:00 UTC</td>\n",
       "      <td>en</td>\n",
       "      <td>Biga_language</td>\n",
       "      <td>2</td>\n",
       "    </tr>\n",
       "    <tr>\n",
       "      <th>12</th>\n",
       "      <td>2022-01-02 00:00:00 UTC</td>\n",
       "      <td>en</td>\n",
       "      <td>Big_Brother_(Serbian_TV_series)</td>\n",
       "      <td>2</td>\n",
       "    </tr>\n",
       "    <tr>\n",
       "      <th>13</th>\n",
       "      <td>2022-01-02 00:00:00 UTC</td>\n",
       "      <td>en</td>\n",
       "      <td>Benjamin_Sisko</td>\n",
       "      <td>2</td>\n",
       "    </tr>\n",
       "    <tr>\n",
       "      <th>14</th>\n",
       "      <td>2022-01-02 00:00:00 UTC</td>\n",
       "      <td>en</td>\n",
       "      <td>Barney_Harwood</td>\n",
       "      <td>3</td>\n",
       "    </tr>\n",
       "    <tr>\n",
       "      <th>15</th>\n",
       "      <td>2022-01-02 00:00:00 UTC</td>\n",
       "      <td>en</td>\n",
       "      <td>Bigg_Boss_(Hindi_season_1)</td>\n",
       "      <td>4</td>\n",
       "    </tr>\n",
       "    <tr>\n",
       "      <th>16</th>\n",
       "      <td>2022-01-02 00:00:00 UTC</td>\n",
       "      <td>en</td>\n",
       "      <td>Betsy_Ross_(character)</td>\n",
       "      <td>4</td>\n",
       "    </tr>\n",
       "    <tr>\n",
       "      <th>17</th>\n",
       "      <td>2022-01-02 00:00:00 UTC</td>\n",
       "      <td>en</td>\n",
       "      <td>Barbara_Lee</td>\n",
       "      <td>6</td>\n",
       "    </tr>\n",
       "    <tr>\n",
       "      <th>18</th>\n",
       "      <td>2022-01-02 00:00:00 UTC</td>\n",
       "      <td>en</td>\n",
       "      <td>Battle_of_Ap_Bac</td>\n",
       "      <td>7</td>\n",
       "    </tr>\n",
       "    <tr>\n",
       "      <th>19</th>\n",
       "      <td>2022-01-02 00:00:00 UTC</td>\n",
       "      <td>en</td>\n",
       "      <td>List_of_Southeast_Asian_people_by_net_worth</td>\n",
       "      <td>1</td>\n",
       "    </tr>\n",
       "  </tbody>\n",
       "</table>\n",
       "</div>"
      ],
      "text/plain": [
       "                   datehour wiki                                        title  \\\n",
       "0   2022-01-02 00:00:00 UTC   en                                  Being_Frank   \n",
       "1   2022-01-02 00:00:00 UTC   en                          Bexhill_United_F.C.   \n",
       "2   2022-01-02 00:00:00 UTC   en                         Big_Read_(Hungarian)   \n",
       "3   2022-01-02 00:00:00 UTC   en                                  Bidar_Kadın   \n",
       "4   2022-01-02 00:00:00 UTC   en                                 Bill_Lickiss   \n",
       "5   2022-01-02 00:00:00 UTC   en        Belfast_North_(Assembly_constituency)   \n",
       "6   2022-01-02 00:00:00 UTC   en                             Battista_Fregoso   \n",
       "7   2022-01-02 00:00:00 UTC   en                  Beaufort_Castle,_Luxembourg   \n",
       "8   2022-01-02 00:00:00 UTC   en                              Benjamin_Dreyer   \n",
       "9   2022-01-02 00:00:00 UTC   en                                  Billy_Baron   \n",
       "10  2022-01-02 00:00:00 UTC   en                                    Berberism   \n",
       "11  2022-01-02 00:00:00 UTC   en                                Biga_language   \n",
       "12  2022-01-02 00:00:00 UTC   en              Big_Brother_(Serbian_TV_series)   \n",
       "13  2022-01-02 00:00:00 UTC   en                               Benjamin_Sisko   \n",
       "14  2022-01-02 00:00:00 UTC   en                               Barney_Harwood   \n",
       "15  2022-01-02 00:00:00 UTC   en                   Bigg_Boss_(Hindi_season_1)   \n",
       "16  2022-01-02 00:00:00 UTC   en                       Betsy_Ross_(character)   \n",
       "17  2022-01-02 00:00:00 UTC   en                                  Barbara_Lee   \n",
       "18  2022-01-02 00:00:00 UTC   en                             Battle_of_Ap_Bac   \n",
       "19  2022-01-02 00:00:00 UTC   en  List_of_Southeast_Asian_people_by_net_worth   \n",
       "\n",
       "    views  \n",
       "0       1  \n",
       "1       1  \n",
       "2       1  \n",
       "3       1  \n",
       "4       1  \n",
       "5       1  \n",
       "6       1  \n",
       "7       1  \n",
       "8       1  \n",
       "9       2  \n",
       "10      2  \n",
       "11      2  \n",
       "12      2  \n",
       "13      2  \n",
       "14      3  \n",
       "15      4  \n",
       "16      4  \n",
       "17      6  \n",
       "18      7  \n",
       "19      1  "
      ]
     },
     "execution_count": 81,
     "metadata": {},
     "output_type": "execute_result"
    }
   ],
   "source": [
    "print(wikidf.shape)\n",
    "wikidf.head(20)"
   ]
  },
  {
   "cell_type": "markdown",
   "metadata": {
    "id": "g0Q6Vr4qJ35Q"
   },
   "source": [
    "How **large** is this dataset in **Mb**?"
   ]
  },
  {
   "cell_type": "code",
   "execution_count": 82,
   "metadata": {
    "colab": {
     "base_uri": "https://localhost:8080/",
     "height": 51
    },
    "id": "NqkhKGEF9-pF",
    "outputId": "b41b4344-ccf0-4164-a53c-c740cd6c15f4",
    "tags": []
   },
   "outputs": [
    {
     "name": "stdout",
     "output_type": "stream",
     "text": [
      "# of rows: 20.292649 M\n",
      "Size: 4368.31 Mb\n"
     ]
    }
   ],
   "source": [
    "size_wikidf = wikidf.memory_usage(index=True, deep=True).sum()\n",
    "print(f\"# of rows: {wikidf.shape[0]/1000000} M\")\n",
    "print(f\"Size: {np.round(size_wikidf / 1024 / 1024, 2)} Mb\")"
   ]
  },
  {
   "cell_type": "markdown",
   "metadata": {
    "id": "N5_28ZDIJ-Aw",
    "tags": []
   },
   "source": [
    "## What are the top page requests by title that contain a certain word?\n",
    "Let's try looking for **top page requests** based on **titles** containing a particular **regex expression**\n",
    "\n",
    "Let's start with a sample of 100K rows"
   ]
  },
  {
   "cell_type": "code",
   "execution_count": 83,
   "metadata": {
    "colab": {
     "base_uri": "https://localhost:8080/",
     "height": 359
    },
    "id": "RsysS43EIV-8",
    "outputId": "2165d366-9490-4594-f851-ef3ad1848bfd"
   },
   "outputs": [
    {
     "data": {
      "text/html": [
       "<div>\n",
       "<style scoped>\n",
       "    .dataframe tbody tr th:only-of-type {\n",
       "        vertical-align: middle;\n",
       "    }\n",
       "\n",
       "    .dataframe tbody tr th {\n",
       "        vertical-align: top;\n",
       "    }\n",
       "\n",
       "    .dataframe thead th {\n",
       "        text-align: right;\n",
       "    }\n",
       "</style>\n",
       "<table border=\"1\" class=\"dataframe\">\n",
       "  <thead>\n",
       "    <tr style=\"text-align: right;\">\n",
       "      <th></th>\n",
       "      <th>title</th>\n",
       "      <th>views</th>\n",
       "    </tr>\n",
       "  </thead>\n",
       "  <tbody>\n",
       "    <tr>\n",
       "      <th>22</th>\n",
       "      <td>Google_Docs</td>\n",
       "      <td>66</td>\n",
       "    </tr>\n",
       "    <tr>\n",
       "      <th>33</th>\n",
       "      <td>Google_Play</td>\n",
       "      <td>30</td>\n",
       "    </tr>\n",
       "    <tr>\n",
       "      <th>28</th>\n",
       "      <td>Google_Images</td>\n",
       "      <td>25</td>\n",
       "    </tr>\n",
       "    <tr>\n",
       "      <th>19</th>\n",
       "      <td>Google_Cast</td>\n",
       "      <td>10</td>\n",
       "    </tr>\n",
       "    <tr>\n",
       "      <th>18</th>\n",
       "      <td>Google_Authenticator</td>\n",
       "      <td>10</td>\n",
       "    </tr>\n",
       "    <tr>\n",
       "      <th>38</th>\n",
       "      <td>Google_Spaces</td>\n",
       "      <td>9</td>\n",
       "    </tr>\n",
       "    <tr>\n",
       "      <th>36</th>\n",
       "      <td>Google_Search_Appliance</td>\n",
       "      <td>5</td>\n",
       "    </tr>\n",
       "    <tr>\n",
       "      <th>34</th>\n",
       "      <td>Google_Podcasts</td>\n",
       "      <td>5</td>\n",
       "    </tr>\n",
       "    <tr>\n",
       "      <th>27</th>\n",
       "      <td>Google_IME</td>\n",
       "      <td>5</td>\n",
       "    </tr>\n",
       "    <tr>\n",
       "      <th>14</th>\n",
       "      <td>Google_Allo</td>\n",
       "      <td>5</td>\n",
       "    </tr>\n",
       "  </tbody>\n",
       "</table>\n",
       "</div>"
      ],
      "text/plain": [
       "                      title  views\n",
       "22              Google_Docs     66\n",
       "33              Google_Play     30\n",
       "28            Google_Images     25\n",
       "19              Google_Cast     10\n",
       "18     Google_Authenticator     10\n",
       "38            Google_Spaces      9\n",
       "36  Google_Search_Appliance      5\n",
       "34          Google_Podcasts      5\n",
       "27               Google_IME      5\n",
       "14              Google_Allo      5"
      ]
     },
     "execution_count": 83,
     "metadata": {},
     "output_type": "execute_result"
    }
   ],
   "source": [
    "wikidf_100K  = wikidf.head(100000)\n",
    "\n",
    "wikidf_100K[wikidf_100K.title.str.contains(r\"[gG]oogle\", na=False)]\\\n",
    ".groupby(['title'], as_index=False)['views'].sum()\\\n",
    ".sort_values('views', ascending=False)\\\n",
    ".head(10)"
   ]
  },
  {
   "cell_type": "markdown",
   "metadata": {
    "id": "WoA66JywM6y-"
   },
   "source": [
    "#### How long did this take to run in Python?"
   ]
  },
  {
   "cell_type": "code",
   "execution_count": 84,
   "metadata": {
    "id": "7MOa-ds3IYow"
   },
   "outputs": [],
   "source": [
    "import time\n",
    "\n",
    "def get_top_viewed_pages(regex, df):\n",
    "    start = time.time()\n",
    "    result = df[df.title.str.contains(regex, na=False)]\\\n",
    "            .groupby(['title'], as_index=False)['views'].sum()\\\n",
    "            .sort_values('views', ascending=False)\\\n",
    "            .head(10)\n",
    "    end = time.time()\n",
    "    nrows = df.shape[0]\n",
    "    elapsed = np.round(end-start, 3)\n",
    "    print('Processing {} rows took {} s'.format(nrows, elapsed))\n",
    "    #print(result.head())\n",
    "    return (nrows, elapsed)"
   ]
  },
  {
   "cell_type": "code",
   "execution_count": 85,
   "metadata": {
    "colab": {
     "base_uri": "https://localhost:8080/",
     "height": 51
    },
    "id": "2xZCzQcFJkVB",
    "outputId": "df27f1ce-2d0b-403d-887d-447ba0f971a6"
   },
   "outputs": [
    {
     "name": "stdout",
     "output_type": "stream",
     "text": [
      "Processing 100000 rows took 0.058 s\n"
     ]
    },
    {
     "data": {
      "text/plain": [
       "(100000, 0.058)"
      ]
     },
     "execution_count": 85,
     "metadata": {},
     "output_type": "execute_result"
    }
   ],
   "source": [
    "get_top_viewed_pages(r\"[gG]oogle\", wikidf_100K)"
   ]
  },
  {
   "cell_type": "markdown",
   "metadata": {
    "id": "bo6H5bBuKbRX"
   },
   "source": [
    "#### How well does this script scale as dataframes increase in size?"
   ]
  },
  {
   "cell_type": "code",
   "execution_count": 86,
   "metadata": {
    "id": "x8OehdNLHUwG"
   },
   "outputs": [],
   "source": [
    "wikidf_10000K = wikidf.head(10000000)\n",
    "wikidf_1000K = wikidf.head(1000000)\n",
    "wikidf_100K  = wikidf.head(100000)\n",
    "wikidf_10K   = wikidf.head(10000)\n",
    "wikidf_1K    = wikidf.head(1000)"
   ]
  },
  {
   "cell_type": "code",
   "execution_count": 87,
   "metadata": {
    "colab": {
     "base_uri": "https://localhost:8080/",
     "height": 102
    },
    "id": "YIuGlmgiIDnl",
    "outputId": "f6ab02fc-1472-480b-9c03-49d79995700b"
   },
   "outputs": [
    {
     "name": "stdout",
     "output_type": "stream",
     "text": [
      "Processing 1000 rows took 0.008 s\n",
      "Processing 10000 rows took 0.012 s\n",
      "Processing 100000 rows took 0.063 s\n",
      "Processing 1000000 rows took 0.625 s\n",
      "Processing 10000000 rows took 6.386 s\n"
     ]
    }
   ],
   "source": [
    "myregex = r\"[gG]oogle\"\n",
    "\n",
    "time_results = []\n",
    "time_results.append(get_top_viewed_pages(myregex, wikidf_1K))\n",
    "time_results.append(get_top_viewed_pages(myregex, wikidf_10K))\n",
    "time_results.append(get_top_viewed_pages(myregex, wikidf_100K))\n",
    "time_results.append(get_top_viewed_pages(myregex, wikidf_1000K))\n",
    "time_results.append(get_top_viewed_pages(myregex, wikidf_10000K))"
   ]
  },
  {
   "cell_type": "code",
   "execution_count": 88,
   "metadata": {
    "colab": {
     "base_uri": "https://localhost:8080/",
     "height": 415
    },
    "id": "tOPx-BGCQEBT",
    "outputId": "b5b4694a-31dc-4fba-f94d-36e96722154e"
   },
   "outputs": [
    {
     "name": "stdout",
     "output_type": "stream",
     "text": [
      "      nrows  Seconds elapsed  log10_nrows\n",
      "0      1000            0.008          3.0\n",
      "1     10000            0.012          4.0\n",
      "2    100000            0.063          5.0\n",
      "3   1000000            0.625          6.0\n",
      "4  10000000            6.386          7.0\n"
     ]
    },
    {
     "data": {
      "text/plain": [
       "<AxesSubplot:title={'center':'Processing time (sec.) by log(nrows) of Pandas DataFrame'}, xlabel='log10_nrows', ylabel='Seconds elapsed'>"
      ]
     },
     "execution_count": 88,
     "metadata": {},
     "output_type": "execute_result"
    },
    {
     "data": {
      "image/png": "[encoded data removed]",
      "text/plain": [
       "<Figure size 432x288 with 1 Axes>"
      ]
     },
     "metadata": {
      "needs_background": "light"
     },
     "output_type": "display_data"
    }
   ],
   "source": [
    "df_results = pd.DataFrame(time_results, columns = [\"nrows\",\"Seconds elapsed\"])\n",
    "df_results[\"log10_nrows\"] = np.log10(df_results.nrows)\n",
    "print(df_results)\n",
    "df_results.plot(kind='scatter', \n",
    "                x='log10_nrows', y='Seconds elapsed', color='red', title=\"Processing time (sec.) by log(nrows) of Pandas DataFrame\")"
   ]
  },
  {
   "cell_type": "markdown",
   "metadata": {
    "id": "TYdbw44AZCoA"
   },
   "source": [
    "Observation: \n",
    "### As the nrow(df) increases 10x, the processing time increases exponentially"
   ]
  },
  {
   "cell_type": "markdown",
   "metadata": {},
   "source": [
    "<hr>"
   ]
  },
  {
   "cell_type": "markdown",
   "metadata": {},
   "source": [
    "### Let's use BigQuery"
   ]
  },
  {
   "cell_type": "code",
   "execution_count": null,
   "metadata": {},
   "outputs": [],
   "source": [
    "%%bigquery --project {project_id} --verbose --no_query_cache\n",
    "-- takes ~30s\n",
    "\n",
    "SELECT\n",
    "  COUNT(*) number_rows\n",
    "FROM\n",
    "  `bigquery-public-data.wikipedia.pageviews_202*`\n",
    "WHERE\n",
    "  datehour BETWEEN \"2015-01-01\" AND \"2021-12-31\""
   ]
  },
  {
   "cell_type": "code",
   "execution_count": null,
   "metadata": {
    "colab": {
     "base_uri": "https://localhost:8080/",
     "height": 470
    },
    "id": "hNICH6u_8Gws",
    "outputId": "8f2d96ce-bf1c-4125-e8b5-8016da5ffc08"
   },
   "outputs": [],
   "source": [
    "%%bigquery --project {project_id} --verbose --no_query_cache\n",
    "\n",
    "SELECT\n",
    "  title,\n",
    "  SUM(views) totalpageviews\n",
    "FROM\n",
    "  `bigquery-public-data.wikipedia.pageviews_202*`\n",
    "WHERE\n",
    "  REGEXP_CONTAINS(title, r\"[gG]oogle\")\n",
    "  AND datehour BETWEEN \"2015-01-01\" AND \"2021-12-31\"\n",
    "GROUP BY\n",
    "  title\n",
    "ORDER BY\n",
    "  totalpageviews DESC\n",
    "LIMIT\n",
    "  100"
   ]
  }
 ],
 "metadata": {
  "colab": {
   "name": "Analyzing Big Data with Pandas DataFrames.ipynb",
   "provenance": []
  },
  "kernelspec": {
   "display_name": "Python [conda env:root] * (Local)",
   "language": "python",
   "name": "local-conda-root-base"
  },
  "language_info": {
   "codemirror_mode": {
    "name": "ipython",
    "version": 3
   },
   "file_extension": ".py",
   "mimetype": "text/x-python",
   "name": "python",
   "nbconvert_exporter": "python",
   "pygments_lexer": "ipython3",
   "version": "3.7.12"
  }
 },
 "nbformat": 4,
 "nbformat_minor": 4
}
